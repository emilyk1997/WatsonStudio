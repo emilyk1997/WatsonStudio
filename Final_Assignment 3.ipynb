{
    "cells": [
        {
            "cell_type": "markdown",
            "metadata": {},
            "source": "<p style=\"\">\n    <a href=\"https://skills.network/?utm_medium=Exinfluencer&amp;utm_source=Exinfluencer&amp;utm_content=000026UJ&amp;utm_term=10006555&amp;utm_id=NA-SkillsNetwork-Channel-SkillsNetworkCoursesIBMDeveloperSkillsNetworkPY0220ENSkillsNetwork900-2022-01-01\" target=\"_blank\">\n    <img src=\"https://cf-courses-data.s3.us.cloud-object-storage.appdomain.cloud/assets/logos/SN_web_lightmode.png\" width=\"200\" alt=\"Skills Network Logo\">\n    </a>\n</p>\n"
        },
        {
            "cell_type": "markdown",
            "metadata": {},
            "source": "<h1>Extracting and Visualizing Stock Data</h1>\n<h2>Description</h2>\n"
        },
        {
            "cell_type": "markdown",
            "metadata": {},
            "source": "Extracting essential data from a dataset and displaying it is a necessary part of data science; therefore individuals can make correct decisions based on the data. In this assignment, you will extract some stock data, you will then display this data in a graph.\n"
        },
        {
            "cell_type": "markdown",
            "metadata": {},
            "source": "<h2>Table of Contents</h2>\n<div class=\"alert alert-block alert-info\" style=\"\">\n    <ul>\n        <li>Define a Function that Makes a Graph</li>\n        <li>Question 1: Use yfinance to Extract Stock Data</li>\n        <li>Question 2: Use Webscraping to Extract Tesla Revenue Data</li>\n        <li>Question 3: Use yfinance to Extract Stock Data</li>\n        <li>Question 4: Use Webscraping to Extract GME Revenue Data</li>\n        <li>Question 5: Plot Tesla Stock Graph</li>\n        <li>Question 6: Plot GameStop Stock Graph</li>\n    </ul>\n<p>\n    Estimated Time Needed: <strong>30 min</strong></p>\n</div>\n\n<hr>\n"
        },
        {
            "cell_type": "markdown",
            "metadata": {},
            "source": "***Note***:- If you are working Locally using anaconda, please uncomment the following code and execute it.\nUse the version as per your python version.\n"
        },
        {
            "cell_type": "code",
            "execution_count": 1,
            "metadata": {
                "id": "5617fd17-6c5c-45ad-aa9f-69c99ee62ca4"
            },
            "outputs": [
                {
                    "name": "stdout",
                    "output_type": "stream",
                    "text": "Requirement already satisfied: yfinance in /opt/conda/envs/Python-RT24.1/lib/python3.11/site-packages (0.2.54)\nRequirement already satisfied: pandas>=1.3.0 in /opt/conda/envs/Python-RT24.1/lib/python3.11/site-packages (from yfinance) (2.1.4)\nRequirement already satisfied: numpy>=1.16.5 in /opt/conda/envs/Python-RT24.1/lib/python3.11/site-packages (from yfinance) (1.26.4)\nRequirement already satisfied: requests>=2.31 in /opt/conda/envs/Python-RT24.1/lib/python3.11/site-packages (from yfinance) (2.32.2)\nRequirement already satisfied: multitasking>=0.0.7 in /opt/conda/envs/Python-RT24.1/lib/python3.11/site-packages (from yfinance) (0.0.11)\nRequirement already satisfied: platformdirs>=2.0.0 in /opt/conda/envs/Python-RT24.1/lib/python3.11/site-packages (from yfinance) (3.10.0)\nRequirement already satisfied: pytz>=2022.5 in /opt/conda/envs/Python-RT24.1/lib/python3.11/site-packages (from yfinance) (2024.1)\nRequirement already satisfied: frozendict>=2.3.4 in /opt/conda/envs/Python-RT24.1/lib/python3.11/site-packages (from yfinance) (2.4.6)\nRequirement already satisfied: peewee>=3.16.2 in /opt/conda/envs/Python-RT24.1/lib/python3.11/site-packages (from yfinance) (3.17.9)\nRequirement already satisfied: beautifulsoup4>=4.11.1 in /opt/conda/envs/Python-RT24.1/lib/python3.11/site-packages (from yfinance) (4.12.3)\nRequirement already satisfied: soupsieve>1.2 in /opt/conda/envs/Python-RT24.1/lib/python3.11/site-packages (from beautifulsoup4>=4.11.1->yfinance) (2.5)\nRequirement already satisfied: python-dateutil>=2.8.2 in /opt/conda/envs/Python-RT24.1/lib/python3.11/site-packages (from pandas>=1.3.0->yfinance) (2.8.2)\nRequirement already satisfied: tzdata>=2022.1 in /opt/conda/envs/Python-RT24.1/lib/python3.11/site-packages (from pandas>=1.3.0->yfinance) (2023.3)\nRequirement already satisfied: charset-normalizer<4,>=2 in /opt/conda/envs/Python-RT24.1/lib/python3.11/site-packages (from requests>=2.31->yfinance) (2.0.4)\nRequirement already satisfied: idna<4,>=2.5 in /opt/conda/envs/Python-RT24.1/lib/python3.11/site-packages (from requests>=2.31->yfinance) (3.7)\nRequirement already satisfied: urllib3<3,>=1.21.1 in /opt/conda/envs/Python-RT24.1/lib/python3.11/site-packages (from requests>=2.31->yfinance) (1.26.19)\nRequirement already satisfied: certifi>=2017.4.17 in /opt/conda/envs/Python-RT24.1/lib/python3.11/site-packages (from requests>=2.31->yfinance) (2025.1.31)\nRequirement already satisfied: six>=1.5 in /opt/conda/envs/Python-RT24.1/lib/python3.11/site-packages (from python-dateutil>=2.8.2->pandas>=1.3.0->yfinance) (1.16.0)\nRequirement already satisfied: bs4 in /opt/conda/envs/Python-RT24.1/lib/python3.11/site-packages (0.0.2)\nRequirement already satisfied: beautifulsoup4 in /opt/conda/envs/Python-RT24.1/lib/python3.11/site-packages (from bs4) (4.12.3)\nRequirement already satisfied: soupsieve>1.2 in /opt/conda/envs/Python-RT24.1/lib/python3.11/site-packages (from beautifulsoup4->bs4) (2.5)\nRequirement already satisfied: nbformat in /opt/conda/envs/Python-RT24.1/lib/python3.11/site-packages (5.9.2)\nRequirement already satisfied: fastjsonschema in /opt/conda/envs/Python-RT24.1/lib/python3.11/site-packages (from nbformat) (2.16.2)\nRequirement already satisfied: jsonschema>=2.6 in /opt/conda/envs/Python-RT24.1/lib/python3.11/site-packages (from nbformat) (4.19.2)\nRequirement already satisfied: jupyter-core in /opt/conda/envs/Python-RT24.1/lib/python3.11/site-packages (from nbformat) (5.5.0)\nRequirement already satisfied: traitlets>=5.1 in /opt/conda/envs/Python-RT24.1/lib/python3.11/site-packages (from nbformat) (5.7.1)\nRequirement already satisfied: attrs>=22.2.0 in /opt/conda/envs/Python-RT24.1/lib/python3.11/site-packages (from jsonschema>=2.6->nbformat) (23.1.0)\nRequirement already satisfied: jsonschema-specifications>=2023.03.6 in /opt/conda/envs/Python-RT24.1/lib/python3.11/site-packages (from jsonschema>=2.6->nbformat) (2023.7.1)\nRequirement already satisfied: referencing>=0.28.4 in /opt/conda/envs/Python-RT24.1/lib/python3.11/site-packages (from jsonschema>=2.6->nbformat) (0.30.2)\nRequirement already satisfied: rpds-py>=0.7.1 in /opt/conda/envs/Python-RT24.1/lib/python3.11/site-packages (from jsonschema>=2.6->nbformat) (0.10.6)\nRequirement already satisfied: platformdirs>=2.5 in /opt/conda/envs/Python-RT24.1/lib/python3.11/site-packages (from jupyter-core->nbformat) (3.10.0)\nRequirement already satisfied: plotly in /opt/conda/envs/Python-RT24.1/lib/python3.11/site-packages (6.0.0)\nRequirement already satisfied: narwhals>=1.15.1 in /opt/conda/envs/Python-RT24.1/lib/python3.11/site-packages (from plotly) (1.27.1)\nRequirement already satisfied: packaging in /opt/conda/envs/Python-RT24.1/lib/python3.11/site-packages (from plotly) (23.2)\n"
                }
            ],
            "source": "!pip install yfinance\n!pip install bs4\n!pip install nbformat\n!pip install --upgrade plotly"
        },
        {
            "cell_type": "code",
            "execution_count": 2,
            "metadata": {
                "id": "b91921f6-9541-4798-9317-767a0dbef354"
            },
            "outputs": [],
            "source": "import yfinance as yf\nimport pandas as pd\nimport requests\nfrom bs4 import BeautifulSoup\nimport plotly.graph_objects as go\nfrom plotly.subplots import make_subplots\n"
        },
        {
            "cell_type": "code",
            "execution_count": 3,
            "metadata": {
                "id": "30073769-7181-4f35-9158-0ebfefd64ae4"
            },
            "outputs": [],
            "source": "import plotly.io as pio\npio.renderers.default = \"iframe\""
        },
        {
            "cell_type": "markdown",
            "metadata": {},
            "source": "In Python, you can ignore warnings using the warnings module. You can use the filterwarnings function to filter or ignore specific warning messages or categories.\n"
        },
        {
            "cell_type": "code",
            "execution_count": 4,
            "metadata": {
                "id": "7c31dd1b-3c95-4be9-afb1-fa1744528928"
            },
            "outputs": [],
            "source": "import warnings\n# Ignore all warnings\nwarnings.filterwarnings(\"ignore\", category=FutureWarning)"
        },
        {
            "cell_type": "markdown",
            "metadata": {},
            "source": "## Define Graphing Function\n"
        },
        {
            "cell_type": "markdown",
            "metadata": {},
            "source": "In this section, we define the function `make_graph`. **You don't have to know how the function works, you should only care about the inputs. It takes a dataframe with stock data (dataframe must contain Date and Close columns), a dataframe with revenue data (dataframe must contain Date and Revenue columns), and the name of the stock.**\n"
        },
        {
            "cell_type": "code",
            "execution_count": 5,
            "metadata": {
                "id": "9921a4bf-34f4-42ad-8a53-321e30144119"
            },
            "outputs": [],
            "source": "def make_graph(stock_data, revenue_data, stock):\n    fig = make_subplots(rows=2, cols=1, shared_xaxes=True, subplot_titles=(\"Historical Share Price\", \"Historical Revenue\"), vertical_spacing = .3)\n    stock_data_specific = stock_data[stock_data.Date <= '2021-06-14']\n    revenue_data_specific = revenue_data[revenue_data.Date <= '2021-04-30']\n    fig.add_trace(go.Scatter(x=pd.to_datetime(stock_data_specific.Date, infer_datetime_format=True), y=stock_data_specific.Close.astype(\"float\"), name=\"Share Price\"), row=1, col=1)\n    fig.add_trace(go.Scatter(x=pd.to_datetime(revenue_data_specific.Date, infer_datetime_format=True), y=revenue_data_specific.Revenue.astype(\"float\"), name=\"Revenue\"), row=2, col=1)\n    fig.update_xaxes(title_text=\"Date\", row=1, col=1)\n    fig.update_xaxes(title_text=\"Date\", row=2, col=1)\n    fig.update_yaxes(title_text=\"Price ($US)\", row=1, col=1)\n    fig.update_yaxes(title_text=\"Revenue ($US Millions)\", row=2, col=1)\n    fig.update_layout(showlegend=False,\n    height=900,\n    title=stock,\n    xaxis_rangeslider_visible=True)\n    fig.show()\n    from IPython.display import display, HTML\n    fig_html = fig.to_html()\n    display(HTML(fig_html))"
        },
        {
            "cell_type": "markdown",
            "metadata": {},
            "source": "Use the make_graph function that we\u2019ve already defined. You\u2019ll need to invoke it in questions 5 and 6 to display the graphs and create the dashboard. \n&gt; **Note: You don\u2019t need to redefine the function for plotting graphs anywhere else in this notebook; just use the existing function.**\n"
        },
        {
            "cell_type": "markdown",
            "metadata": {},
            "source": "## Question 1: Use yfinance to Extract Stock Data\n"
        },
        {
            "cell_type": "markdown",
            "metadata": {},
            "source": "Using the `Ticker` function enter the ticker symbol of the stock we want to extract data on to create a ticker object. The stock is Tesla and its ticker symbol is `TSLA`.\n"
        },
        {
            "cell_type": "code",
            "execution_count": 6,
            "metadata": {
                "id": "4f5b0f91-6d4c-42db-819e-d272c08b3ff4"
            },
            "outputs": [],
            "source": "Tesla = yf.Ticker(\"TSLA\")"
        },
        {
            "cell_type": "markdown",
            "metadata": {},
            "source": "Using the ticker object and the function `history` extract stock information and save it in a dataframe named `tesla_data`. Set the `period` parameter to ` \"max\" ` so we get information for the maximum amount of time.\n"
        },
        {
            "cell_type": "code",
            "execution_count": 7,
            "metadata": {
                "id": "47bb0b74-05e7-4ebd-ad69-3c5821c9563a"
            },
            "outputs": [],
            "source": "tesla_data = Tesla.history(period = \"max\")"
        },
        {
            "cell_type": "markdown",
            "metadata": {},
            "source": "**Reset the index** using the `reset_index(inplace=True)` function on the tesla_data DataFrame and display the first five rows of the `tesla_data` dataframe using the `head` function. Take a screenshot of the results and code from the beginning of Question 1 to the results below.\n"
        },
        {
            "cell_type": "code",
            "execution_count": 8,
            "metadata": {
                "id": "dcb6c5a7-e4dc-43f9-bf47-fe8d58e71c69"
            },
            "outputs": [
                {
                    "name": "stdout",
                    "output_type": "stream",
                    "text": "                       Date      Open      High       Low     Close  \\\n0 2010-06-29 00:00:00-04:00  1.266667  1.666667  1.169333  1.592667   \n1 2010-06-30 00:00:00-04:00  1.719333  2.028000  1.553333  1.588667   \n2 2010-07-01 00:00:00-04:00  1.666667  1.728000  1.351333  1.464000   \n3 2010-07-02 00:00:00-04:00  1.533333  1.540000  1.247333  1.280000   \n4 2010-07-06 00:00:00-04:00  1.333333  1.333333  1.055333  1.074000   \n\n      Volume  Dividends  Stock Splits  \n0  281494500        0.0           0.0  \n1  257806500        0.0           0.0  \n2  123282000        0.0           0.0  \n3   77097000        0.0           0.0  \n4  103003500        0.0           0.0  \n"
                }
            ],
            "source": "tesla_data.reset_index(inplace=True)\n\nprint (tesla_data.head(5))"
        },
        {
            "cell_type": "markdown",
            "metadata": {},
            "source": "## Question 2: Use Webscraping to Extract Tesla Revenue Data\n"
        },
        {
            "cell_type": "markdown",
            "metadata": {},
            "source": "Use the `requests` library to download the webpage https://cf-courses-data.s3.us.cloud-object-storage.appdomain.cloud/IBMDeveloperSkillsNetwork-PY0220EN-SkillsNetwork/labs/project/revenue.htm Save the text of the response as a variable named `html_data`.\n"
        },
        {
            "cell_type": "code",
            "execution_count": 9,
            "metadata": {
                "id": "91034510-d7c8-4cdd-8b3a-bc9996375c92"
            },
            "outputs": [],
            "source": "url = \"https://cf-courses-data.s3.us.cloud-object-storage.appdomain.cloud/IBMDeveloperSkillsNetwork-PY0220EN-SkillsNetwork/labs/project/revenue.htm\"\nhtml_data = requests.get(url).text"
        },
        {
            "cell_type": "markdown",
            "metadata": {},
            "source": "Parse the html data using `beautiful_soup` using parser i.e `html5lib` or `html.parser`.\n"
        },
        {
            "cell_type": "code",
            "execution_count": 10,
            "metadata": {
                "id": "9aa9a65a-02fa-4e0b-a81a-30d1f09e4ad1"
            },
            "outputs": [],
            "source": "soup = BeautifulSoup(html_data, 'html.parser')"
        },
        {
            "cell_type": "markdown",
            "metadata": {},
            "source": "Using `BeautifulSoup` or the `read_html` function extract the table with `Tesla Revenue` and store it into a dataframe named `tesla_revenue`. The dataframe should have columns `Date` and `Revenue`.\n"
        },
        {
            "cell_type": "markdown",
            "metadata": {},
            "source": "<details><summary>Step-by-step instructions</summary>\n\n```\n\nHere are the step-by-step instructions:\n\n1. Create an Empty DataFrame\n2. Find the Relevant Table\n3. Check for the Tesla Quarterly Revenue Table\n4. Iterate Through Rows in the Table Body\n5. Extract Data from Columns\n6. Append Data to the DataFrame\n\n```\n</details>\n"
        },
        {
            "cell_type": "markdown",
            "metadata": {},
            "source": "<details><summary>Click here if you need help locating the table</summary>\n\n```\n    \nBelow is the code to isolate the table, you will now need to loop through the rows and columns like in the previous lab\n    \nsoup.find_all(\"tbody\")[1]\n    \nIf you want to use the read_html function the table is located at index 1\n\nWe are focusing on quarterly revenue in the lab.\n```\n\n</details>\n"
        },
        {
            "cell_type": "code",
            "execution_count": 11,
            "metadata": {
                "id": "6ce337d6-fb45-450d-a490-1369c09778ed"
            },
            "outputs": [
                {
                    "name": "stdout",
                    "output_type": "stream",
                    "text": "          Date  Revenue\n0   2022-09-30  $21,454\n1   2022-06-30  $16,934\n2   2022-03-31  $18,756\n3   2021-12-31  $17,719\n4   2021-09-30  $13,757\n5   2021-06-30  $11,958\n6   2021-03-31  $10,389\n7   2020-12-31  $10,744\n8   2020-09-30   $8,771\n9   2020-06-30   $6,036\n10  2020-03-31   $5,985\n11  2019-12-31   $7,384\n12  2019-09-30   $6,303\n13  2019-06-30   $6,350\n14  2019-03-31   $4,541\n15  2018-12-31   $7,226\n16  2018-09-30   $6,824\n17  2018-06-30   $4,002\n18  2018-03-31   $3,409\n19  2017-12-31   $3,288\n20  2017-09-30   $2,985\n21  2017-06-30   $2,790\n22  2017-03-31   $2,696\n23  2016-12-31   $2,285\n24  2016-09-30   $2,298\n25  2016-06-30   $1,270\n26  2016-03-31   $1,147\n27  2015-12-31   $1,214\n28  2015-09-30     $937\n29  2015-06-30     $955\n30  2015-03-31     $940\n31  2014-12-31     $957\n32  2014-09-30     $852\n33  2014-06-30     $769\n34  2014-03-31     $621\n35  2013-12-31     $615\n36  2013-09-30     $431\n37  2013-06-30     $405\n38  2013-03-31     $562\n39  2012-12-31     $306\n40  2012-09-30      $50\n41  2012-06-30      $27\n42  2012-03-31      $30\n43  2011-12-31      $39\n44  2011-09-30      $58\n45  2011-06-30      $58\n46  2011-03-31      $49\n47  2010-12-31      $36\n48  2010-09-30      $31\n49  2010-06-30      $28\n50  2010-03-31      $21\n51  2009-12-31         \n52  2009-09-30      $46\n53  2009-06-30      $27\n"
                }
            ],
            "source": "#Creating an empty data frame to hold the data from the table\n\ntesla_revenue = pd.DataFrame(columns=[\"Date\", \"Revenue\"])\n\nfor table in soup.find_all('table'): #iterate through all tables\n    if \"Tesla Quarterly Revenue\" in table.text: #Check the table contains the correct header\n        #print (table) #Checking the code has selected the correct table\n        \n        for row in table.find('tbody').find_all('tr'): #Iterate through the rows of the selected table in the body of the text only (use tbody so it doesn't try and use the header)             \n           col = row.find_all('td') #Find all cells in the row\n           date = col[0].text.strip() #Identifying the first column in the table as the date\n           Revenue = col[1].text.strip() #Identifying the second column in the table as the revenue\n\n            #.strip is needed to remove white space in the cells to avoid TypeError: 'str' object is not callable\n            \n#Appending the data of each row to the table\n           tesla_revenue = pd.concat([tesla_revenue, pd.DataFrame({\"Date\":[date], \"Revenue\":[Revenue]})], ignore_index=True)\n        \nprint (tesla_revenue)\n\n\n\n\n    \n"
        },
        {
            "cell_type": "markdown",
            "metadata": {},
            "source": "Execute the following line to remove the comma and dollar sign from the `Revenue` column. \n"
        },
        {
            "cell_type": "code",
            "execution_count": 20,
            "metadata": {
                "id": "65ee0031-8615-40ff-9ddc-16d7522486ff"
            },
            "outputs": [],
            "source": "tesla_revenue[\"Revenue\"] = tesla_revenue['Revenue'].str.replace(',|\\$',\"\", regex = True)"
        },
        {
            "cell_type": "markdown",
            "metadata": {},
            "source": "Execute the following lines to remove an null or empty strings in the Revenue column.\n"
        },
        {
            "cell_type": "code",
            "execution_count": 21,
            "metadata": {
                "id": "9c3f46e3-da6a-4168-b85d-4aa4c49b8017"
            },
            "outputs": [],
            "source": "tesla_revenue.dropna(inplace=True)\n\ntesla_revenue = tesla_revenue[tesla_revenue['Revenue'] != \"\"]"
        },
        {
            "cell_type": "markdown",
            "metadata": {},
            "source": "Display the last 5 row of the `tesla_revenue` dataframe using the `tail` function. Take a screenshot of the results.\n"
        },
        {
            "cell_type": "code",
            "execution_count": 22,
            "metadata": {
                "id": "926937ad-02c2-464a-8715-ebb50a4857ff"
            },
            "outputs": [
                {
                    "name": "stdout",
                    "output_type": "stream",
                    "text": "          Date Revenue\n48  2010-09-30      31\n49  2010-06-30      28\n50  2010-03-31      21\n52  2009-09-30      46\n53  2009-06-30      27\n"
                }
            ],
            "source": "print (tesla_revenue.tail(5))"
        },
        {
            "cell_type": "markdown",
            "metadata": {},
            "source": "## Question 3: Use yfinance to Extract Stock Data\n"
        },
        {
            "cell_type": "markdown",
            "metadata": {},
            "source": "Using the `Ticker` function enter the ticker symbol of the stock we want to extract data on to create a ticker object. The stock is GameStop and its ticker symbol is `GME`.\n"
        },
        {
            "cell_type": "code",
            "execution_count": 23,
            "metadata": {
                "id": "c1006b71-5ebd-442d-955f-403490938b90"
            },
            "outputs": [],
            "source": "GameStop = yf.Ticker(\"GME\")"
        },
        {
            "cell_type": "markdown",
            "metadata": {},
            "source": "Using the ticker object and the function `history` extract stock information and save it in a dataframe named `gme_data`. Set the `period` parameter to ` \"max\" ` so we get information for the maximum amount of time.\n"
        },
        {
            "cell_type": "code",
            "execution_count": 24,
            "metadata": {
                "id": "30aacd97-37b6-43a2-8196-244807d79e61"
            },
            "outputs": [],
            "source": "gme_data = GameStop.history(period = \"max\")"
        },
        {
            "cell_type": "markdown",
            "metadata": {},
            "source": "**Reset the index** using the `reset_index(inplace=True)` function on the gme_data DataFrame and display the first five rows of the `gme_data` dataframe using the `head` function. Take a screenshot of the results and code from the beginning of Question 3 to the results below.\n"
        },
        {
            "cell_type": "code",
            "execution_count": null,
            "metadata": {
                "id": "d0c278e8-5def-4cdb-a150-aaffebdfbf63",
                "msg_id": "f980372e-d03d-43f7-a03d-22a934561a0a"
            },
            "outputs": [],
            "source": "gme_data.reset_index(inplace=True)\n\nprint (gme_data.head(5))"
        },
        {
            "cell_type": "markdown",
            "metadata": {},
            "source": "## Question 4: Use Webscraping to Extract GME Revenue Data\n"
        },
        {
            "cell_type": "markdown",
            "metadata": {},
            "source": "Use the `requests` library to download the webpage https://cf-courses-data.s3.us.cloud-object-storage.appdomain.cloud/IBMDeveloperSkillsNetwork-PY0220EN-SkillsNetwork/labs/project/stock.html. Save the text of the response as a variable named `html_data_2`.\n"
        },
        {
            "cell_type": "code",
            "execution_count": null,
            "metadata": {
                "id": "997845e4-3cd8-43fb-b781-9df467f55209"
            },
            "outputs": [],
            "source": ""
        },
        {
            "cell_type": "markdown",
            "metadata": {},
            "source": "Parse the html data using `beautiful_soup` using parser i.e `html5lib` or `html.parser`.\n"
        },
        {
            "cell_type": "code",
            "execution_count": null,
            "metadata": {
                "id": "852cafb3-69e7-452b-83a6-d4a596198a2e"
            },
            "outputs": [],
            "source": ""
        },
        {
            "cell_type": "markdown",
            "metadata": {},
            "source": "Using `BeautifulSoup` or the `read_html` function extract the table with `GameStop Revenue` and store it into a dataframe named `gme_revenue`. The dataframe should have columns `Date` and `Revenue`. Make sure the comma and dollar sign is removed from the `Revenue` column.\n"
        },
        {
            "cell_type": "markdown",
            "metadata": {},
            "source": "&gt; **Note: Use the method similar to what you did in question 2.**  \n"
        },
        {
            "cell_type": "markdown",
            "metadata": {},
            "source": "<details><summary>Click here if you need help locating the table</summary>\n\n```\n    \nBelow is the code to isolate the table, you will now need to loop through the rows and columns like in the previous lab\n    \nsoup.find_all(\"tbody\")[1]\n    \nIf you want to use the read_html function the table is located at index 1\n\n\n```\n\n</details>\n"
        },
        {
            "cell_type": "code",
            "execution_count": null,
            "metadata": {
                "id": "21384674-56ee-45bd-a37d-3db46216ac09"
            },
            "outputs": [],
            "source": ""
        },
        {
            "cell_type": "markdown",
            "metadata": {},
            "source": "Display the last five rows of the `gme_revenue` dataframe using the `tail` function. Take a screenshot of the results.\n"
        },
        {
            "cell_type": "code",
            "execution_count": null,
            "metadata": {
                "id": "fc6f1d0e-7428-404d-9861-f5ad60d47195"
            },
            "outputs": [],
            "source": ""
        },
        {
            "cell_type": "markdown",
            "metadata": {},
            "source": "## Question 5: Plot Tesla Stock Graph\n"
        },
        {
            "cell_type": "markdown",
            "metadata": {},
            "source": "Use the `make_graph` function to graph the Tesla Stock Data, also provide a title for the graph. Note the graph will only show data upto June 2021.\n"
        },
        {
            "cell_type": "markdown",
            "metadata": {},
            "source": "<details><summary>Hint</summary>\n\n```\n\nYou just need to invoke the make_graph function with the required parameter to print the graphs.The structure to call the `make_graph` function is `make_graph(tesla_data, tesla_revenue, 'Tesla')`.\n\n```\n    \n</details>\n"
        },
        {
            "cell_type": "code",
            "execution_count": null,
            "metadata": {
                "id": "f1603dd8-54d7-401b-a5c6-894d6137cd00"
            },
            "outputs": [],
            "source": ""
        },
        {
            "cell_type": "markdown",
            "metadata": {},
            "source": "## Question 6: Plot GameStop Stock Graph\n"
        },
        {
            "cell_type": "markdown",
            "metadata": {},
            "source": "Use the `make_graph` function to graph the GameStop Stock Data, also provide a title for the graph. The structure to call the `make_graph` function is `make_graph(gme_data, gme_revenue, 'GameStop')`. Note the graph will only show data upto June 2021.\n"
        },
        {
            "cell_type": "markdown",
            "metadata": {},
            "source": "<details><summary>Hint</summary>\n\n```\n\nYou just need to invoke the make_graph function with the required parameter to print the graphs.The structure to call the `make_graph` function is `make_graph(gme_data, gme_revenue, 'GameStop')`\n\n```\n    \n</details>\n"
        },
        {
            "cell_type": "code",
            "execution_count": null,
            "metadata": {
                "id": "8509cd39-b252-41fc-955d-14850340695f"
            },
            "outputs": [],
            "source": ""
        },
        {
            "cell_type": "markdown",
            "metadata": {},
            "source": "<h2>About the Authors:</h2> \n\n<a href=\"https://www.linkedin.com/in/joseph-s-50398b136/\">Joseph Santarcangelo</a> has a PhD in Electrical Engineering, his research focused on using machine learning, signal processing, and computer vision to determine how videos impact human cognition. Joseph has been working for IBM since he completed his PhD.\n\nAzim Hirjani\n"
        },
        {
            "cell_type": "markdown",
            "metadata": {},
            "source": "## Change Log\n\n| Date (YYYY-MM-DD) | Version | Changed By    | Change Description        |\n| ----------------- | ------- | ------------- | ------------------------- |\n| 2022-02-28        | 1.2     | Lakshmi Holla | Changed the URL of GameStop |\n| 2020-11-10        | 1.1     | Malika Singla | Deleted the Optional part |\n| 2020-08-27        | 1.0     | Malika Singla | Added lab to GitLab       |\n\n<hr>\n\n## <h3 align=\"center\"> \u00a9 IBM Corporation 2020. All rights reserved. </h3><h3>\n\n<p>\n</p></h3>"
        }
    ],
    "metadata": {
        "kernelspec": {
            "display_name": "Python 3.11",
            "language": "python",
            "name": "python3"
        },
        "language_info": {
            "codemirror_mode": {
                "name": "ipython",
                "version": 3
            },
            "file_extension": ".py",
            "mimetype": "text/x-python",
            "name": "python",
            "nbconvert_exporter": "python",
            "pygments_lexer": "ipython3",
            "version": "3.11.9"
        },
        "prev_pub_hash": "847bbe99ddd9f2dc606aa9f731e386824fa521d0c7e38672c5f080f5d71a8326"
    },
    "nbformat": 4,
    "nbformat_minor": 4
}