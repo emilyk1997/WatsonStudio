{
    "cells": [
        {
            "cell_type": "markdown",
            "metadata": {
                "collapsed": true,
                "id": "6f86393e-3bde-4ef2-b669-7889ce6fcc3b",
                "jupyter": {
                    "outputs_hidden": true
                }
            },
            "source": "This program prints Hello, World!"
        },
        {
            "cell_type": "code",
            "execution_count": 1,
            "metadata": {
                "id": "1e721afe-c9f7-4962-a038-541dd78bb872"
            },
            "outputs": [
                {
                    "name": "stdout",
                    "output_type": "stream",
                    "text": "Hello World!\n"
                }
            ],
            "source": "print('Hello World!')"
        },
        {
            "cell_type": "code",
            "execution_count": null,
            "metadata": {
                "id": "558f98fc-2f54-435a-9f23-60ec9848d70e"
            },
            "outputs": [],
            "source": ""
        }
    ],
    "metadata": {
        "kernelspec": {
            "display_name": "Python 3.11",
            "language": "python",
            "name": "python3"
        },
        "language_info": {
            "codemirror_mode": {
                "name": "ipython",
                "version": 3
            },
            "file_extension": ".py",
            "mimetype": "text/x-python",
            "name": "python",
            "nbconvert_exporter": "python",
            "pygments_lexer": "ipython3",
            "version": "3.11.9"
        }
    },
    "nbformat": 4,
    "nbformat_minor": 4
}